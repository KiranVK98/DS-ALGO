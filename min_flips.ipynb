{
 "cells": [
  {
   "cell_type": "code",
   "execution_count": 4,
   "id": "ideal-confusion",
   "metadata": {},
   "outputs": [],
   "source": [
    "def minFlips(S):\n",
    "        # Code here\n",
    "        flips_0=0\n",
    "        flips_1=0\n",
    "        #to check for pattern 101\n",
    "        for i in range(len(S)):\n",
    "            if((i+1)%2==0):\n",
    "                if(S[i]==\"1\"):\n",
    "                    flips_0+=1\n",
    "                \n",
    "            else:\n",
    "                if(S[i]==\"0\"):\n",
    "                    flips_0+=1\n",
    "                    \n",
    "                    \n",
    "                    \n",
    "        #to check for pattern 010\n",
    "        \n",
    "        for i in range(len(S)):\n",
    "            if((i+1)%2==0):\n",
    "                if(S[i]==\"0\"):\n",
    "                    flips_1+=1\n",
    "                    \n",
    "            else:\n",
    "                if(S[i]==\"1\"):\n",
    "                    flips_1+=1\n",
    "                    \n",
    "                    \n",
    "        return min(flips_0,flips_1)"
   ]
  },
  {
   "cell_type": "code",
   "execution_count": 6,
   "id": "russian-friendship",
   "metadata": {},
   "outputs": [
    {
     "name": "stdout",
     "output_type": "stream",
     "text": [
      "1\n"
     ]
    }
   ],
   "source": [
    "print(minFlips('100'))"
   ]
  },
  {
   "cell_type": "code",
   "execution_count": null,
   "id": "japanese-degree",
   "metadata": {},
   "outputs": [],
   "source": []
  }
 ],
 "metadata": {
  "kernelspec": {
   "display_name": "Python 3",
   "language": "python",
   "name": "python3"
  },
  "language_info": {
   "codemirror_mode": {
    "name": "ipython",
    "version": 3
   },
   "file_extension": ".py",
   "mimetype": "text/x-python",
   "name": "python",
   "nbconvert_exporter": "python",
   "pygments_lexer": "ipython3",
   "version": "3.7.9"
  }
 },
 "nbformat": 4,
 "nbformat_minor": 5
}
