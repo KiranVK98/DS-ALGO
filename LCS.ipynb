{
 "cells": [
  {
   "cell_type": "code",
   "execution_count": null,
   "metadata": {},
   "outputs": [],
   "source": [
    "#LongestCommonSubsequence-Dynamic programming\n",
    "class Solution:\n",
    "    \n",
    "    #Function to find the length of longest common subsequence in two strings.\n",
    "    \n",
    "    def lcs(self,x,y,s1,s2):\n",
    "        \n",
    "            # code h\n",
    "        mat=[[-1 for j in range(y+1)] for i in range(x+1)]\n",
    "        for i in range(x+1):\n",
    "            for j in range(y+1):\n",
    "                if(i==0 or j==0):\n",
    "                    mat[i][j]=0\n",
    "            \n",
    "        for i in range(1,x+1):\n",
    "            for j in range(1,y+1):\n",
    "                if(s1[i-1]==s2[j-1]):\n",
    "                    mat[i][j]=1+mat[i-1][j-1]\n",
    "                else:\n",
    "                    mat[i][j]=max(mat[i-1][j],mat[i][j-1])\n",
    "                    \n",
    "                    \n",
    "        return mat[x][y]"
   ]
  }
 ],
 "metadata": {
  "kernelspec": {
   "display_name": "Python 3",
   "language": "python",
   "name": "python3"
  },
  "language_info": {
   "codemirror_mode": {
    "name": "ipython",
    "version": 3
   },
   "file_extension": ".py",
   "mimetype": "text/x-python",
   "name": "python",
   "nbconvert_exporter": "python",
   "pygments_lexer": "ipython3",
   "version": "3.8.5"
  }
 },
 "nbformat": 4,
 "nbformat_minor": 4
}
